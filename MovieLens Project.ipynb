{
 "cells": [
  {
   "cell_type": "code",
   "execution_count": 1,
   "metadata": {},
   "outputs": [
    {
     "name": "stderr",
     "output_type": "stream",
     "text": [
      "Loading required package: tidyverse\n",
      "── Attaching packages ─────────────────────────────────────── tidyverse 1.3.0 ──\n",
      "✔ ggplot2 3.3.0     ✔ purrr   0.3.4\n",
      "✔ tibble  3.0.1     ✔ dplyr   0.8.5\n",
      "✔ tidyr   1.0.2     ✔ stringr 1.4.0\n",
      "✔ readr   1.3.1     ✔ forcats 0.5.0\n",
      "── Conflicts ────────────────────────────────────────── tidyverse_conflicts() ──\n",
      "✖ dplyr::filter() masks stats::filter()\n",
      "✖ dplyr::lag()    masks stats::lag()\n",
      "Loading required package: kableExtra\n",
      "Warning message in library(package, lib.loc = lib.loc, character.only = TRUE, logical.return = TRUE, :\n",
      "“there is no package called ‘kableExtra’”also installing the dependency ‘webshot’\n",
      "\n",
      "Updating HTML index of packages in '.Library'\n",
      "Making 'packages.html' ... done\n",
      "Loading required package: caret\n",
      "Loading required package: lattice\n",
      "\n",
      "Attaching package: ‘caret’\n",
      "\n",
      "The following object is masked from ‘package:purrr’:\n",
      "\n",
      "    lift\n",
      "\n"
     ]
    },
    {
     "name": "stdout",
     "output_type": "stream",
     "text": [
      "[1] \"Fin d'installation\"\n"
     ]
    }
   ],
   "source": [
    "#installation des libraries à utilisées\n",
    "if(!require(tidyverse)) install.packages(\"tidyverse\",repos = \"http://cran.us.r-project.org\") \n",
    "if(!require(kableExtra)) install.packages(\"kableExtra\",repos = \"http://cran.us.r-project.org\")\n",
    "if(!require(tidyr)) install.packages(\"tidyr\",repos = \"http://cran.us.r-project.org\")\n",
    "if(!require(tidyverse)) install.packages(\"tidyverse\",repos = \"http://cran.us.r-project.org\")\n",
    "if(!require(stringr)) install.packages(\"stringr\",repos = \"http://cran.us.r-project.org\")\n",
    "if(!require(forcats)) install.packages(\"forcats\",repos = \"http://cran.us.r-project.org\")\n",
    "if(!require(ggplot2)) install.packages(\"ggplot2\",repos = \"http://cran.us.r-project.org\")\n",
    "if(!require(caret)) install.packages(\"caret\", repos = \"http://cran.us.r-project.org\")\n",
    "print(\"Fin d'installation\")"
   ]
  },
  {
   "cell_type": "code",
   "execution_count": 2,
   "metadata": {},
   "outputs": [
    {
     "name": "stderr",
     "output_type": "stream",
     "text": [
      "\n",
      "Attaching package: ‘kableExtra’\n",
      "\n",
      "The following object is masked from ‘package:dplyr’:\n",
      "\n",
      "    group_rows\n",
      "\n"
     ]
    },
    {
     "name": "stdout",
     "output_type": "stream",
     "text": [
      "[1] \"toutes les libraries ont été chargé\"\n"
     ]
    }
   ],
   "source": [
    "# chargement de toutes les libraries \n",
    "\n",
    "library(dplyr)\n",
    "library(tidyverse)\n",
    "library(kableExtra)\n",
    "library(tidyr)\n",
    "library(stringr)\n",
    "library(forcats)\n",
    "library(ggplot2)\n",
    "library(caret)\n",
    "print(\"toutes les libraries ont été chargé\")"
   ]
  },
  {
   "cell_type": "code",
   "execution_count": 3,
   "metadata": {},
   "outputs": [],
   "source": [
    "# Ecrivons  la fonction qui calcul le  RMSE\n",
    "\n",
    "RMSE <- function(true_ratings = NULL, predicted_ratings = NULL) {\n",
    "    sqrt(mean((true_ratings - predicted_ratings)^2))\n",
    "}"
   ]
  },
  {
   "cell_type": "code",
   "execution_count": 4,
   "metadata": {},
   "outputs": [],
   "source": [
    "dl <- tempfile()\n",
    "download.file(\"http://files.grouplens.org/datasets/movielens/ml-10m.zip\", dl)\n",
    "\n",
    "ratings <- read.table(text = gsub(\"::\", \"\\t\", readLines(unzip(dl, \"ml-10M100K/ratings.dat\"))),\n",
    "                      col.names = c(\"userId\", \"movieId\", \"rating\", \"timestamp\"))\n",
    "\n",
    "movies <- str_split_fixed(readLines(unzip(dl, \"ml-10M100K/movies.dat\")), \"\\\\::\", 3)\n",
    "colnames(movies) <- c(\"movieId\", \"title\", \"genres\")\n",
    "movies <- as.data.frame(movies) %>% mutate(movieId = as.numeric(levels(movieId))[movieId],\n",
    "                                           title = as.character(title),\n",
    "                                           genres = as.character(genres))\n",
    "\n",
    "movielens <- left_join(ratings, movies, by = \"movieId\")"
   ]
  },
  {
   "cell_type": "code",
   "execution_count": 5,
   "metadata": {},
   "outputs": [],
   "source": [
    "# on garde 10% comme données d'echantillonnage ou encore données de validation \n",
    "\n",
    "set.seed(1)\n",
    "test_index <- createDataPartition(y = movielens$rating, times = 1, p = 0.1, list = FALSE)\n",
    "edx <- movielens[-test_index,]\n",
    "temp <- movielens[test_index,]"
   ]
  },
  {
   "cell_type": "code",
   "execution_count": 6,
   "metadata": {},
   "outputs": [],
   "source": [
    "# Make sure userId and movieId in validation set are also in edx set\n",
    "\n",
    "validation <- temp %>% \n",
    "     semi_join(edx, by = \"movieId\") %>%\n",
    "     semi_join(edx, by = \"userId\")"
   ]
  },
  {
   "cell_type": "code",
   "execution_count": 7,
   "metadata": {},
   "outputs": [
    {
     "name": "stderr",
     "output_type": "stream",
     "text": [
      "Joining, by = c(\"userId\", \"movieId\", \"rating\", \"timestamp\", \"title\", \"genres\")\n"
     ]
    }
   ],
   "source": [
    "# Add rows removed from validation set back into edx set\n",
    "\n",
    "removed <- anti_join(temp, validation)\n",
    "edx <- rbind(edx, removed)"
   ]
  },
  {
   "cell_type": "code",
   "execution_count": 8,
   "metadata": {},
   "outputs": [
    {
     "data": {
      "text/html": [
       "<table>\n",
       "<caption>A matrix: 2 × 6 of type dbl</caption>\n",
       "<thead>\n",
       "\t<tr><th></th><th scope=col>used</th><th scope=col>(Mb)</th><th scope=col>gc trigger</th><th scope=col>(Mb)</th><th scope=col>max used</th><th scope=col>(Mb)</th></tr>\n",
       "</thead>\n",
       "<tbody>\n",
       "\t<tr><th scope=row>Ncells</th><td>11209469</td><td>598.7</td><td> 18864692</td><td>1007.5</td><td> 24598705</td><td>1313.8</td></tr>\n",
       "\t<tr><th scope=row>Vcells</th><td>91254136</td><td>696.3</td><td>306803476</td><td>2340.8</td><td>282418626</td><td>2154.7</td></tr>\n",
       "</tbody>\n",
       "</table>\n"
      ],
      "text/latex": [
       "A matrix: 2 × 6 of type dbl\n",
       "\\begin{tabular}{r|llllll}\n",
       "  & used & (Mb) & gc trigger & (Mb) & max used & (Mb)\\\\\n",
       "\\hline\n",
       "\tNcells & 11209469 & 598.7 &  18864692 & 1007.5 &  24598705 & 1313.8\\\\\n",
       "\tVcells & 91254136 & 696.3 & 306803476 & 2340.8 & 282418626 & 2154.7\\\\\n",
       "\\end{tabular}\n"
      ],
      "text/markdown": [
       "\n",
       "A matrix: 2 × 6 of type dbl\n",
       "\n",
       "| <!--/--> | used | (Mb) | gc trigger | (Mb) | max used | (Mb) |\n",
       "|---|---|---|---|---|---|---|\n",
       "| Ncells | 11209469 | 598.7 |  18864692 | 1007.5 |  24598705 | 1313.8 |\n",
       "| Vcells | 91254136 | 696.3 | 306803476 | 2340.8 | 282418626 | 2154.7 |\n",
       "\n"
      ],
      "text/plain": [
       "       used     (Mb)  gc trigger (Mb)   max used  (Mb)  \n",
       "Ncells 11209469 598.7  18864692  1007.5  24598705 1313.8\n",
       "Vcells 91254136 696.3 306803476  2340.8 282418626 2154.7"
      ]
     },
     "metadata": {},
     "output_type": "display_data"
    }
   ],
   "source": [
    "# Clean up memory by deleting unsused objects and performing a garbage collection \n",
    "rm(dl, ratings, movies, test_index, temp, movielens, removed)\n",
    "gc()"
   ]
  },
  {
   "cell_type": "markdown",
   "metadata": {},
   "source": [
    "## Netoyage des données "
   ]
  },
  {
   "cell_type": "code",
   "execution_count": 9,
   "metadata": {},
   "outputs": [
    {
     "data": {
      "text/html": [
       "<style>\n",
       ".list-inline {list-style: none; margin:0; padding: 0}\n",
       ".list-inline>li {display: inline-block}\n",
       ".list-inline>li:not(:last-child)::after {content: \"\\00b7\"; padding: 0 .5ex}\n",
       "</style>\n",
       "<ol class=list-inline><li>9000055</li><li>6</li></ol>\n"
      ],
      "text/latex": [
       "\\begin{enumerate*}\n",
       "\\item 9000055\n",
       "\\item 6\n",
       "\\end{enumerate*}\n"
      ],
      "text/markdown": [
       "1. 9000055\n",
       "2. 6\n",
       "\n",
       "\n"
      ],
      "text/plain": [
       "[1] 9000055       6"
      ]
     },
     "metadata": {},
     "output_type": "display_data"
    }
   ],
   "source": [
    "dim(edx)"
   ]
  },
  {
   "cell_type": "code",
   "execution_count": 10,
   "metadata": {},
   "outputs": [
    {
     "data": {
      "text/html": [
       "<table>\n",
       "<caption>A data.frame: 6 × 6</caption>\n",
       "<thead>\n",
       "\t<tr><th></th><th scope=col>userId</th><th scope=col>movieId</th><th scope=col>rating</th><th scope=col>timestamp</th><th scope=col>title</th><th scope=col>genres</th></tr>\n",
       "\t<tr><th></th><th scope=col>&lt;int&gt;</th><th scope=col>&lt;dbl&gt;</th><th scope=col>&lt;dbl&gt;</th><th scope=col>&lt;int&gt;</th><th scope=col>&lt;chr&gt;</th><th scope=col>&lt;chr&gt;</th></tr>\n",
       "</thead>\n",
       "<tbody>\n",
       "\t<tr><th scope=row>1</th><td>1</td><td>122</td><td>5</td><td>838985046</td><td>Boomerang (1992)             </td><td>Comedy|Romance               </td></tr>\n",
       "\t<tr><th scope=row>2</th><td>1</td><td>185</td><td>5</td><td>838983525</td><td>Net, The (1995)              </td><td>Action|Crime|Thriller        </td></tr>\n",
       "\t<tr><th scope=row>4</th><td>1</td><td>292</td><td>5</td><td>838983421</td><td>Outbreak (1995)              </td><td>Action|Drama|Sci-Fi|Thriller </td></tr>\n",
       "\t<tr><th scope=row>5</th><td>1</td><td>316</td><td>5</td><td>838983392</td><td>Stargate (1994)              </td><td>Action|Adventure|Sci-Fi      </td></tr>\n",
       "\t<tr><th scope=row>6</th><td>1</td><td>329</td><td>5</td><td>838983392</td><td>Star Trek: Generations (1994)</td><td>Action|Adventure|Drama|Sci-Fi</td></tr>\n",
       "\t<tr><th scope=row>7</th><td>1</td><td>355</td><td>5</td><td>838984474</td><td>Flintstones, The (1994)      </td><td>Children|Comedy|Fantasy      </td></tr>\n",
       "</tbody>\n",
       "</table>\n"
      ],
      "text/latex": [
       "A data.frame: 6 × 6\n",
       "\\begin{tabular}{r|llllll}\n",
       "  & userId & movieId & rating & timestamp & title & genres\\\\\n",
       "  & <int> & <dbl> & <dbl> & <int> & <chr> & <chr>\\\\\n",
       "\\hline\n",
       "\t1 & 1 & 122 & 5 & 838985046 & Boomerang (1992)              & Comedy\\textbar{}Romance               \\\\\n",
       "\t2 & 1 & 185 & 5 & 838983525 & Net, The (1995)               & Action\\textbar{}Crime\\textbar{}Thriller        \\\\\n",
       "\t4 & 1 & 292 & 5 & 838983421 & Outbreak (1995)               & Action\\textbar{}Drama\\textbar{}Sci-Fi\\textbar{}Thriller \\\\\n",
       "\t5 & 1 & 316 & 5 & 838983392 & Stargate (1994)               & Action\\textbar{}Adventure\\textbar{}Sci-Fi      \\\\\n",
       "\t6 & 1 & 329 & 5 & 838983392 & Star Trek: Generations (1994) & Action\\textbar{}Adventure\\textbar{}Drama\\textbar{}Sci-Fi\\\\\n",
       "\t7 & 1 & 355 & 5 & 838984474 & Flintstones, The (1994)       & Children\\textbar{}Comedy\\textbar{}Fantasy      \\\\\n",
       "\\end{tabular}\n"
      ],
      "text/markdown": [
       "\n",
       "A data.frame: 6 × 6\n",
       "\n",
       "| <!--/--> | userId &lt;int&gt; | movieId &lt;dbl&gt; | rating &lt;dbl&gt; | timestamp &lt;int&gt; | title &lt;chr&gt; | genres &lt;chr&gt; |\n",
       "|---|---|---|---|---|---|---|\n",
       "| 1 | 1 | 122 | 5 | 838985046 | Boomerang (1992)              | Comedy|Romance                |\n",
       "| 2 | 1 | 185 | 5 | 838983525 | Net, The (1995)               | Action|Crime|Thriller         |\n",
       "| 4 | 1 | 292 | 5 | 838983421 | Outbreak (1995)               | Action|Drama|Sci-Fi|Thriller  |\n",
       "| 5 | 1 | 316 | 5 | 838983392 | Stargate (1994)               | Action|Adventure|Sci-Fi       |\n",
       "| 6 | 1 | 329 | 5 | 838983392 | Star Trek: Generations (1994) | Action|Adventure|Drama|Sci-Fi |\n",
       "| 7 | 1 | 355 | 5 | 838984474 | Flintstones, The (1994)       | Children|Comedy|Fantasy       |\n",
       "\n"
      ],
      "text/plain": [
       "  userId movieId rating timestamp title                        \n",
       "1 1      122     5      838985046 Boomerang (1992)             \n",
       "2 1      185     5      838983525 Net, The (1995)              \n",
       "4 1      292     5      838983421 Outbreak (1995)              \n",
       "5 1      316     5      838983392 Stargate (1994)              \n",
       "6 1      329     5      838983392 Star Trek: Generations (1994)\n",
       "7 1      355     5      838984474 Flintstones, The (1994)      \n",
       "  genres                       \n",
       "1 Comedy|Romance               \n",
       "2 Action|Crime|Thriller        \n",
       "4 Action|Drama|Sci-Fi|Thriller \n",
       "5 Action|Adventure|Sci-Fi      \n",
       "6 Action|Adventure|Drama|Sci-Fi\n",
       "7 Children|Comedy|Fantasy      "
      ]
     },
     "metadata": {},
     "output_type": "display_data"
    }
   ],
   "source": [
    "head(edx)"
   ]
  },
  {
   "cell_type": "code",
   "execution_count": null,
   "metadata": {},
   "outputs": [],
   "source": []
  },
  {
   "cell_type": "markdown",
   "metadata": {},
   "source": [
    "# Explorons les données"
   ]
  },
  {
   "cell_type": "code",
   "execution_count": 11,
   "metadata": {},
   "outputs": [
    {
     "data": {
      "text/plain": [
       "   Min. 1st Qu.  Median    Mean 3rd Qu.    Max. \n",
       "    1.0    30.0   122.0   842.9   565.0 31362.0 "
      ]
     },
     "metadata": {},
     "output_type": "display_data"
    }
   ],
   "source": [
    "# --- EXPLORING MOVIES --------------------------------------\n",
    "\n",
    "edx_movies <- edx %>%\n",
    "    group_by(movieId) %>%\n",
    "    summarize(count = n()) %>%\n",
    "    arrange(desc(count))\n",
    "\n",
    "summary(edx_movies$count)"
   ]
  },
  {
   "cell_type": "markdown",
   "metadata": {},
   "source": [
    "### Distribution des votes "
   ]
  },
  {
   "cell_type": "code",
   "execution_count": 12,
   "metadata": {},
   "outputs": [
    {
     "data": {},
     "metadata": {},
     "output_type": "display_data"
    },
    {
     "data": {
      "image/png": "[encoded data removed]",
      "text/plain": [
       "plot without title"
      ]
     },
     "metadata": {},
     "output_type": "display_data",
     "source": "R display func"
    }
   ],
   "source": [
    "# Distribution of ratings\n",
    "ggplot(data = edx, aes(x = rating)) +\n",
    "    geom_bar() + \n",
    "    labs(title = \"Distribution des votes\", x = \"Rating\", y = \"Number of ratings\")"
   ]
  },
  {
   "cell_type": "markdown",
   "metadata": {},
   "source": [
    "### Representons la notation des films par an"
   ]
  },
  {
   "cell_type": "code",
   "execution_count": 13,
   "metadata": {},
   "outputs": [
    {
     "data": {},
     "metadata": {},
     "output_type": "display_data"
    },
    {
     "data": {
      "image/png": "[encoded data removed]",
      "text/plain": [
       "plot without title"
      ]
     },
     "metadata": {},
     "output_type": "display_data",
     "source": "R display func"
    }
   ],
   "source": [
    "movies_year <- edx %>%\n",
    "    transform(timestamp = format(as.POSIXlt(timestamp, origin = \"1970-01-01\"), \"%Y\")) %>%\n",
    "    select(timestamp, movieId) %>%\n",
    "    group_by(timestamp) %>%\n",
    "    summarise(count = n_distinct(movieId))\n",
    "              \n",
    "ggplot(data = movies_year, aes(x = timestamp, y = count)) +\n",
    "    geom_bar(stat = \"identity\") + \n",
    "    labs(title = \"Distribution annuel des votes\", x = \"Year\", y = \"Number of ratings\")"
   ]
  },
  {
   "cell_type": "markdown",
   "metadata": {},
   "source": [
    "## Elaboration et Optimisation du modèle"
   ]
  },
  {
   "cell_type": "markdown",
   "metadata": {},
   "source": [
    "#### Just the average method"
   ]
  },
  {
   "cell_type": "markdown",
   "metadata": {},
   "source": [
    "Nous commençons avec un modèle qui assume la même note pour tous les films et tous les utilisateurs, avec toutes les différences expliquées par une variation aléatoire:"
   ]
  },
  {
   "cell_type": "markdown",
   "metadata": {},
   "source": [
    "Si μ représente la vraie note pour tous les films et utilisateurs et ϵ représente les erreurs indépendantes échantillonnées à partir du même distribution centrée à zéro, alors:\n",
    "Yu,i= μ + ϵμ,i"
   ]
  },
  {
   "cell_type": "markdown",
   "metadata": {},
   "source": [
    "* Dans ce cas, l'estimation des moindres carrés de μ ** - l'estimation qui minimise l'erreur quadratique moyenne - est la note moyenne de tous les films pour tous les utilisateurs."
   ]
  },
  {
   "cell_type": "code",
   "execution_count": 22,
   "metadata": {},
   "outputs": [
    {
     "data": {
      "text/html": [
       "1.06120181029262"
      ],
      "text/latex": [
       "1.06120181029262"
      ],
      "text/markdown": [
       "1.06120181029262"
      ],
      "text/plain": [
       "[1] 1.061202"
      ]
     },
     "metadata": {},
     "output_type": "display_data"
    }
   ],
   "source": [
    "# calculate the overall average rating on the training dataset\n",
    "μ <- mean(edx$rating)\n",
    "\n",
    "# predict all unknown ratings with mu and calculate the RMSE\n",
    "RMSE(validation$rating, μ)"
   ]
  },
  {
   "cell_type": "markdown",
   "metadata": {},
   "source": [
    "#### Movie effect method"
   ]
  },
  {
   "cell_type": "markdown",
   "metadata": {},
   "source": [
    "Nous pouvons améliorer notre modèle en ajoutant un terme, *bi* qui représente la note moyenne du film i:\n"
   ]
  },
  {
   "cell_type": "markdown",
   "metadata": {},
   "source": [
    "Yu, i = μ + bi + ϵμi"
   ]
  },
  {
   "cell_type": "markdown",
   "metadata": {},
   "source": [
    "Dans ce cas bi est la moyenne de Y_ {u, i} moins la moyenne globale pour chaque film i."
   ]
  },
  {
   "cell_type": "code",
   "execution_count": 25,
   "metadata": {},
   "outputs": [
    {
     "data": {
      "text/html": [
       "0.943908662806309"
      ],
      "text/latex": [
       "0.943908662806309"
      ],
      "text/markdown": [
       "0.943908662806309"
      ],
      "text/plain": [
       "[1] 0.9439087"
      ]
     },
     "metadata": {},
     "output_type": "display_data"
    }
   ],
   "source": [
    "# add average ranking term, b_i\n",
    "b_i <- edx %>%\n",
    "  group_by(movieId) %>%\n",
    "  summarize(b_i = mean(rating - μ))\n",
    "\n",
    "# predict all unknown ratings with mu and b_i\n",
    "predicted_ratings <- validation %>% \n",
    "  left_join(b_i, by='movieId') %>%\n",
    "  mutate(pred = μ + b_i) %>%\n",
    "  pull(pred)\n",
    "\n",
    "# calculate RMSE of movie ranking effect\n",
    "RMSE(validation$rating, predicted_ratings)"
   ]
  },
  {
   "cell_type": "code",
   "execution_count": 16,
   "metadata": {},
   "outputs": [
    {
     "data": {},
     "metadata": {},
     "output_type": "display_data"
    },
    {
     "data": {
      "image/png": "[encoded data removed]",
      "text/plain": [
       "plot without title"
      ]
     },
     "metadata": {},
     "output_type": "display_data",
     "source": "R display func"
    }
   ],
   "source": [
    "# plot the distribution of b_i's\n",
    "qplot(b_i, data = b_i, bins = 15, color = I(\"black\"))"
   ]
  },
  {
   "cell_type": "markdown",
   "metadata": {},
   "source": [
    "#### Movie and user effect method"
   ]
  },
  {
   "cell_type": "markdown",
   "metadata": {},
   "source": [
    "* Nous pouvons encore améliorer notre modèle en ajoutant bu, l'effet spécifique au user :\n",
    "Yu, i = μ + bi + bu + ϵμ, i\n",
    "* Notez que comme il y a des milliers de bs, la fonction lm sera très lente ou provoquera le crash de R, nous ne recommandons donc pas d'utiliser la régression linéaire pour calculer ces effets."
   ]
  },
  {
   "cell_type": "code",
   "execution_count": 26,
   "metadata": {},
   "outputs": [
    {
     "data": {
      "text/html": [
       "0.865348824577316"
      ],
      "text/latex": [
       "0.865348824577316"
      ],
      "text/markdown": [
       "0.865348824577316"
      ],
      "text/plain": [
       "[1] 0.8653488"
      ]
     },
     "metadata": {},
     "output_type": "display_data"
    }
   ],
   "source": [
    "# compute user bias term, b_u\n",
    "b_u <- edx %>% \n",
    "  left_join(b_i, by='movieId') %>%\n",
    "  group_by(userId) %>%\n",
    "  summarize(b_u = mean(rating - μ - b_i))\n",
    "\n",
    "# predict new ratings with movie and user bias\n",
    "predicted_ratings <- validation %>% \n",
    "  left_join(b_i, by='movieId') %>%\n",
    "  left_join(b_u, by='userId') %>%\n",
    "  mutate(pred = μ + b_i + b_u) %>%\n",
    "  pull(pred)\n",
    "\n",
    "# calculate RMSE of movie ranking effect\n",
    "RMSE(predicted_ratings, validation$rating)"
   ]
  },
  {
   "cell_type": "code",
   "execution_count": 27,
   "metadata": {},
   "outputs": [
    {
     "data": {},
     "metadata": {},
     "output_type": "display_data"
    },
    {
     "data": {
      "image/png": "[encoded data removed]",
      "text/plain": [
       "plot without title"
      ]
     },
     "metadata": {},
     "output_type": "display_data",
     "source": "R display func"
    }
   ],
   "source": [
    "edx %>% \n",
    "     group_by(userId) %>% \n",
    "     summarize(b_u = mean(rating)) %>% \n",
    "     filter(n()>=100) %>%\n",
    "     ggplot(aes(b_u)) + \n",
    "     geom_histogram(bins = 30, color = \"black\")"
   ]
  },
  {
   "cell_type": "markdown",
   "metadata": {},
   "source": [
    "#### Regularized movie and user effect method"
   ]
  },
  {
   "cell_type": "markdown",
   "metadata": {},
   "source": [
    "Au lieu de seulement chercher à minimiser la perte, nous allons minimiser à la fois la perte et la complexité, ce qui s'appelle la minimisation du risque structurel :"
   ]
  },
  {
   "cell_type": "markdown",
   "metadata": {},
   "source": [
    "Notre algorithme d'optimisation de l'apprentissage est désormais une fonction à deux facteurs : **le facteur de perte**, qui mesure l'efficacité d'apprentissage du modèle, et **le facteur de régularisation**, qui mesure la complexité du modèle."
   ]
  },
  {
   "cell_type": "code",
   "execution_count": 18,
   "metadata": {},
   "outputs": [],
   "source": [
    "# determine best lambda from a sequence\n",
    "lambdas <- seq(from=0, to=10, by=0.25)\n",
    "\n",
    "# output RMSE of each lambda, repeat earlier steps (with regularization)\n",
    "rmses <- sapply(lambdas, function(l){\n",
    "  # calculate average rating across training data\n",
    "  μ <- mean(edx$rating)\n",
    "  # compute regularized movie bias term\n",
    "  b_i <- edx %>% \n",
    "    group_by(movieId) %>%\n",
    "    summarize(b_i = sum(rating - μ)/(n()+l))\n",
    "  # compute regularize user bias term\n",
    "  b_u <- edx %>% \n",
    "    left_join(b_i, by=\"movieId\") %>%\n",
    "    group_by(userId) %>%\n",
    "    summarize(b_u = sum(rating - b_i - μ)/(n()+l))\n",
    "  # compute predictions on validation set based on these above terms\n",
    "  predicted_ratings <- validation %>% \n",
    "    left_join(b_i, by = \"movieId\") %>%\n",
    "    left_join(b_u, by = \"userId\") %>%\n",
    "    mutate(pred = μ + b_i + b_u) %>%\n",
    "    pull(pred)\n",
    "  # output RMSE of these predictions\n",
    "  return(RMSE(predicted_ratings, validation$rating))\n",
    "})\n"
   ]
  },
  {
   "cell_type": "code",
   "execution_count": 19,
   "metadata": {},
   "outputs": [
    {
     "data": {},
     "metadata": {},
     "output_type": "display_data"
    },
    {
     "data": {
      "text/html": [
       "0.864817008757297"
      ],
      "text/latex": [
       "0.864817008757297"
      ],
      "text/markdown": [
       "0.864817008757297"
      ],
      "text/plain": [
       "[1] 0.864817"
      ]
     },
     "metadata": {},
     "output_type": "display_data"
    },
    {
     "data": {
      "image/png": "[encoded data removed]",
      "text/plain": [
       "plot without title"
      ]
     },
     "metadata": {},
     "output_type": "display_data",
     "source": "R display func"
    }
   ],
   "source": [
    "# quick plot of RMSE vs lambdas\n",
    "qplot(lambdas, rmses)\n",
    "# print minimum RMSE \n",
    "min(rmses)"
   ]
  },
  {
   "cell_type": "markdown",
   "metadata": {},
   "source": [
    "#### Final model with regularized movie and user effects"
   ]
  },
  {
   "cell_type": "code",
   "execution_count": 20,
   "metadata": {},
   "outputs": [
    {
     "data": {
      "text/html": [
       "0.864817008757297"
      ],
      "text/latex": [
       "0.864817008757297"
      ],
      "text/markdown": [
       "0.864817008757297"
      ],
      "text/plain": [
       "[1] 0.864817"
      ]
     },
     "metadata": {},
     "output_type": "display_data"
    }
   ],
   "source": [
    "\n",
    "# The final linear model with the minimizing lambda\n",
    "lam <- lambdas[which.min(rmses)]\n",
    "\n",
    "b_i <- edx %>% \n",
    "  group_by(movieId) %>%\n",
    "  summarize(b_i = sum(rating - μ)/(n()+lam))\n",
    "# compute regularize user bias term\n",
    "b_u <- edx %>% \n",
    "  left_join(b_i, by=\"movieId\") %>%\n",
    "  group_by(userId) %>%\n",
    "  summarize(b_u = sum(rating - b_i - μ)/(n()+lam))\n",
    "# compute predictions on validation set based on these above terms\n",
    "predicted_ratings <- validation %>% \n",
    "  left_join(b_i, by = \"movieId\") %>%\n",
    "  left_join(b_u, by = \"userId\") %>%\n",
    "  mutate(pred = μ + b_i + b_u) %>%\n",
    "  pull(pred)\n",
    "# output RMSE of these predictions\n",
    "RMSE(predicted_ratings, validation$rating)"
   ]
  },
  {
   "cell_type": "markdown",
   "metadata": {},
   "source": [
    "Recapitulatif"
   ]
  },
  {
   "cell_type": "code",
   "execution_count": null,
   "metadata": {},
   "outputs": [],
   "source": []
  }
 ],
 "metadata": {
  "kernelspec": {
   "display_name": "R",
   "language": "R",
   "name": "conda-env-r-r"
  },
  "language_info": {
   "codemirror_mode": "r",
   "file_extension": ".r",
   "mimetype": "text/x-r-source",
   "name": "R",
   "pygments_lexer": "r",
   "version": "3.5.1"
  }
 },
 "nbformat": 4,
 "nbformat_minor": 4
}
